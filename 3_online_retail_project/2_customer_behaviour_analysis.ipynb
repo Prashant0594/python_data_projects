{
 "cells": [
  {
   "cell_type": "markdown",
   "id": "b0b36874",
   "metadata": {},
   "source": [
    "Tasks:\n",
    "\n",
    "1. Find the top 10 customers based on total sales (Quantity * Price).\n",
    "2. Analyze the frequency of purchases by customers (e.g., number of invoices per customer)."
   ]
  },
  {
   "cell_type": "markdown",
   "id": "dfc35800",
   "metadata": {},
   "source": []
  }
 ],
 "metadata": {
  "language_info": {
   "name": "python"
  }
 },
 "nbformat": 4,
 "nbformat_minor": 5
}
