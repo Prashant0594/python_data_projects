{
 "cells": [
  {
   "cell_type": "markdown",
   "id": "e3163554",
   "metadata": {},
   "source": [
    "Tasks:\n",
    "\n",
    "1. RFM Analysis:\n",
    "\n",
    "- Perform Recency, Frequency, and Monetary (RFM) analysis to segment customers.\n",
    "- Visualize customer segments using a scatter plot or bar chart.\n",
    "\n",
    "2. Seasonality Analysis:\n",
    "\n",
    "- Analyze seasonal patterns in sales (e.g., holiday season spikes).\n",
    "- Use a time series decomposition to identify trends, seasonality, and residuals.\n",
    "\n",
    "3. Cohort Analysis:\n",
    "\n",
    "- Group customers by their first purchase month and analyze their retention over time.\n",
    "- Visualize the results using a cohort heatmap.\n",
    "\n",
    "4. Predictive Modeling:\n",
    "\n",
    "- Build a simple regression model to predict sales based on historical data.\n",
    "- Visualize the model's predictions versus actual sales."
   ]
  }
 ],
 "metadata": {
  "language_info": {
   "name": "python"
  }
 },
 "nbformat": 4,
 "nbformat_minor": 5
}
