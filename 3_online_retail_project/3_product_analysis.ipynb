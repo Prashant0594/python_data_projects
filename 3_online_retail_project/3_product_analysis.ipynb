{
 "cells": [
  {
   "cell_type": "markdown",
   "id": "d9a172ba",
   "metadata": {},
   "source": [
    "Tasks:\n",
    "\n",
    "1. Identify the top 10 most sold products by quantity.\n",
    "2. Find the products with the highest revenue (Quantity * Price)."
   ]
  }
 ],
 "metadata": {
  "language_info": {
   "name": "python"
  }
 },
 "nbformat": 4,
 "nbformat_minor": 5
}
