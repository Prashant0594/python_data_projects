{
 "cells": [
  {
   "cell_type": "markdown",
   "id": "52966ad2",
   "metadata": {},
   "source": [
    "Tasks:\n",
    "\n",
    "1. Identify invoices with unusually high or low total sales.\n",
    "2. Detect any anomalies in sales trends (e.g., sudden drops or spikes)."
   ]
  },
  {
   "cell_type": "code",
   "execution_count": 1,
   "id": "ad295376",
   "metadata": {},
   "outputs": [],
   "source": [
    "import pandas as pd\n",
    "import numpy as np\n",
    "import seaborn as sns\n",
    "import matplotlib.pyplot as plt\n",
    "\n",
    "df1= pd.read_excel(\"C:/Users/prash/Desktop/data/online_retail_II.xlsx\", sheet_name='Year 2009-2010')\n",
    "df2= pd.read_excel('C:/Users/prash/Desktop/data/online_retail_II.xlsx', sheet_name='Year 2010-2011')\n",
    "df = pd.concat([df1, df2], ignore_index=True)\n",
    "\n",
    "# Data Cleaning- negative values to positive values\n",
    "df['Quantity'] = df['Quantity'].abs()\n",
    "df['Price'] = df['Price'].abs()\n",
    "\n",
    "# Adding revenue column\n",
    "df['TotalPrice'] = df['Quantity'] * df['Price']\n",
    "\n",
    "# Removing bad data(not related to online retail sales)- got this data after doing product analysis\n",
    "scanlist=['Manual','AMAZON FEE','DOTCOM POSTAGE','Adjust bad debt', 'POSTAGE']\n",
    "df = df[~df['Description'].isin(scanlist)]\n",
    "\n",
    "# Ensure the date column is in datetime format\n",
    "df['InvoiceDate'] = pd.to_datetime(df['InvoiceDate'])\n",
    "\n",
    "# Extract year, month, quarter, week number, and day of the week\n",
    "df['Year'] = df['InvoiceDate'].dt.year\n",
    "df['Month'] = df['InvoiceDate'].dt.month\n",
    "df['Quarter'] = df['InvoiceDate'].dt.quarter\n",
    "df['WeekNumber'] = df['InvoiceDate'].dt.isocalendar().week  # Week number\n",
    "df['DayOfWeek'] = df['InvoiceDate'].dt.day_name()  # Day of the week as a string\n",
    "\n",
    "# Drop duplicates\n",
    "df.drop_duplicates(inplace=True) "
   ]
  },
  {
   "cell_type": "code",
   "execution_count": null,
   "id": "71028409",
   "metadata": {},
   "outputs": [],
   "source": []
  }
 ],
 "metadata": {
  "kernelspec": {
   "display_name": "python_course_new",
   "language": "python",
   "name": "python3"
  },
  "language_info": {
   "codemirror_mode": {
    "name": "ipython",
    "version": 3
   },
   "file_extension": ".py",
   "mimetype": "text/x-python",
   "name": "python",
   "nbconvert_exporter": "python",
   "pygments_lexer": "ipython3",
   "version": "3.11.11"
  }
 },
 "nbformat": 4,
 "nbformat_minor": 5
}
