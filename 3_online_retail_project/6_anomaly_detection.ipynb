{
 "cells": [
  {
   "cell_type": "markdown",
   "id": "52966ad2",
   "metadata": {},
   "source": [
    "Tasks:\n",
    "\n",
    "1. Identify invoices with unusually high or low total sales.\n",
    "2. Detect any anomalies in sales trends (e.g., sudden drops or spikes)."
   ]
  }
 ],
 "metadata": {
  "language_info": {
   "name": "python"
  }
 },
 "nbformat": 4,
 "nbformat_minor": 5
}
