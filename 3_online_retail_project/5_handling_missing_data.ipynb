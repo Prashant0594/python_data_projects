{
 "cells": [
  {
   "cell_type": "markdown",
   "id": "48770cbb",
   "metadata": {},
   "source": [
    "Tasks:\n",
    "\n",
    "1. Investigate rows where Description is null and decide how to handle them.\n",
    "2. Check if missing values in Description correlate with specific StockCode values."
   ]
  }
 ],
 "metadata": {
  "language_info": {
   "name": "python"
  }
 },
 "nbformat": 4,
 "nbformat_minor": 5
}
