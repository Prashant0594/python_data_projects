{
 "cells": [
  {
   "cell_type": "markdown",
   "id": "e8b79ce2",
   "metadata": {},
   "source": [
    "Tasks:\n",
    "\n",
    "1. Sales Trends:\n",
    "\n",
    "- Create a line chart to visualize monthly sales trends over the two years.\n",
    "- Compare sales trends for 2010 and 2011 using a dual-axis plot or overlayed line charts.\n",
    "\n",
    "2. Top Products:\n",
    "\n",
    "- Use a bar chart to show the top 10 products by quantity sold.\n",
    "- Create a pie chart to visualize the contribution of the top 5 products to total sales.\n",
    "\n",
    "3. Customer Segmentation:\n",
    "\n",
    "- Use a scatter plot to analyze the relationship between the number of purchases and total sales for each customer.\n",
    "- Create a heatmap to show sales distribution across different months and days of the week.\n",
    "\n",
    "4. Revenue by Category:\n",
    "\n",
    "- If there are product categories, create a bar chart to show revenue by category.\n",
    "- Use a stacked bar chart to compare category-wise sales across the two years.\n",
    "\n",
    "5. Geographical Analysis:\n",
    "\n",
    "- If the dataset contains geographical data (e.g., country or region), create a map or bar chart to visualize sales distribution by location.\n",
    "\n",
    "6. Correlation Analysis:\n",
    "\n",
    "- Use a heatmap to visualize correlations between numerical columns like Quantity, Price, and sales.\n",
    "\n",
    "7. Quarterly Analysis:\n",
    "\n",
    "- Create a grouped bar chart to compare quarterly sales for 2010 and 2011.\n",
    "- Highlight the quarter with the highest sales for each year.\n",
    "\n",
    "8. Anomaly Visualization:\n",
    "\n",
    "- Use a line chart to highlight anomalies in sales trends (e.g., missing data in December 2011)."
   ]
  }
 ],
 "metadata": {
  "language_info": {
   "name": "python"
  }
 },
 "nbformat": 4,
 "nbformat_minor": 5
}
