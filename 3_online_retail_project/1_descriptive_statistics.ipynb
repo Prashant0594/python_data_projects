{
 "cells": [
  {
   "cell_type": "markdown",
   "id": "683870d8",
   "metadata": {},
   "source": [
    "Tasks:\n",
    "\n",
    "1. Calculate summary statistics (mean, median, standard deviation) for numerical columns like Quantity and Price.\n",
    "2. Identify outliers in Quantity and Price using boxplots or statistical methods."
   ]
  },
  {
   "cell_type": "markdown",
   "id": "08125afa",
   "metadata": {},
   "source": []
  }
 ],
 "metadata": {
  "language_info": {
   "name": "python"
  }
 },
 "nbformat": 4,
 "nbformat_minor": 5
}
