{
 "cells": [
  {
   "cell_type": "markdown",
   "id": "2881d827",
   "metadata": {},
   "source": [
    "Tasks:\n",
    "\n",
    "1. Analyze sales trends over time (e.g., monthly or quarterly sales).\n",
    "2. Identify the busiest days of the week for sales."
   ]
  }
 ],
 "metadata": {
  "language_info": {
   "name": "python"
  }
 },
 "nbformat": 4,
 "nbformat_minor": 5
}
